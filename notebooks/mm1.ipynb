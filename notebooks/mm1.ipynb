{
 "cells": [
  {
   "cell_type": "markdown",
   "metadata": {},
   "source": [
    "## Simulation of a M/M/1 queue using processes"
   ]
  },
  {
   "cell_type": "markdown",
   "metadata": {
    "collapsed": false
   },
   "source": [
    "This simulation is adapted from the Bank Renege example in Simjulia documentation: http://simjuliajl.readthedocs.io/en/stable/examples/1_bank_renege.html"
   ]
  },
  {
   "cell_type": "code",
   "execution_count": 9,
   "metadata": {
    "collapsed": true
   },
   "outputs": [],
   "source": [
    "using SimJulia\n",
    "using Distributions\n",
    "using RandomStreams"
   ]
  },
  {
   "cell_type": "code",
   "execution_count": 16,
   "metadata": {
    "collapsed": false
   },
   "outputs": [
    {
     "name": "stderr",
     "output_type": "stream",
     "text": [
      "WARNING: redefining constant NEW_CUSTOMERS\n",
      "WARNING: redefining constant INTERVAL_CUSTOMERS\n",
      "WARNING: redefining constant MEAN_SERVICE\n"
     ]
    },
    {
     "data": {
      "text/plain": [
       "customer (generic function with 2 methods)"
      ]
     },
     "execution_count": 16,
     "metadata": {},
     "output_type": "execute_result"
    }
   ],
   "source": [
    "const RANDOM_SEED = 150\n",
    "const NEW_CUSTOMERS = 50  # Total number of customers\n",
    "const INTERVAL_CUSTOMERS = 2.0  # Generate new customers roughly every x seconds\n",
    "const MEAN_SERVICE = 1.9\n",
    "\n",
    "function source(env::Environment, number::Int, interval::Float64, counter::Resource)\n",
    "  d = Exponential(interval)\n",
    "  for i in 1:number\n",
    "    Process(env, customer, \"Customer$i\", counter, MEAN_SERVICE)\n",
    "    yield(Timeout(env, rand(d)))\n",
    "  end\n",
    "end\n",
    "\n",
    "function customer(env::Environment, name::ASCIIString, counter::Resource, time_in_system::Float64)\n",
    "  arrive = now(env)\n",
    "  println(\"$arrive $name: Here I am\")\n",
    "  yield(Request(counter))\n",
    "  wait = now(env) - arrive\n",
    "  println(\"$(now(env)) $name: Waited $wait\")\n",
    "  yield(Timeout(env, rand(Exponential(time_in_system))))\n",
    "  println(\"$(now(env)) $name: Finished\")\n",
    "  yield(Release(counter))\n",
    "end\n"
   ]
  },
  {
   "cell_type": "code",
   "execution_count": 17,
   "metadata": {
    "collapsed": false
   },
   "outputs": [
    {
     "name": "stdout",
     "output_type": "stream",
     "text": [
      "M/M/1 with processes\n"
     ]
    },
    {
     "data": {
      "text/plain": [
       "SimJulia.Environment(0.0,Base.Collections.PriorityQueue{SimJulia.BaseEvent,SimJulia.EventKey,Base.Order.ForwardOrdering}(),0,0,Nullable{SimJulia.Process}())"
      ]
     },
     "execution_count": 17,
     "metadata": {},
     "output_type": "execute_result"
    }
   ],
   "source": [
    "# Setup and start the simulation\n",
    "println(\"M/M/1 with processes\")\n",
    "srand(RANDOM_SEED)\n",
    "env = Environment()"
   ]
  },
  {
   "cell_type": "code",
   "execution_count": 18,
   "metadata": {
    "collapsed": false,
    "scrolled": true
   },
   "outputs": [
    {
     "name": "stdout",
     "output_type": "stream",
     "text": [
      "0.0 Customer1: Here I am\n",
      "0.0 Customer1: Waited 0.0\n",
      "0.6696518356529892 Customer1: Finished\n",
      "4.2026170206163505 Customer2: Here I am\n",
      "4.2026170206163505 Customer2: Waited 0.0\n",
      "4.598702762204979 Customer2: Finished\n",
      "4.941864492710946 Customer3: Here I am\n",
      "4.941864492710946 Customer3: Waited 0.0\n",
      "5.400813205643003 Customer3: Finished\n",
      "7.442614347380125 Customer4: Here I am\n",
      "7.442614347380125 Customer4: Waited 0.0\n",
      "8.845789429415182 Customer5: Here I am\n",
      "9.663622600067395 Customer4: Finished\n",
      "9.663622600067395 Customer5: Waited 0.8178331706522126\n",
      "9.760050185384225 Customer5: Finished\n",
      "10.300286192973203 Customer6: Here I am\n",
      "10.300286192973203 Customer6: Waited 0.0\n",
      "11.850413149485027 Customer6: Finished\n",
      "12.868399745779543 Customer7: Here I am\n",
      "12.868399745779543 Customer7: Waited 0.0\n",
      "13.261869174682765 Customer8: Here I am\n",
      "13.282798488059914 Customer7: Finished\n",
      "13.282798488059914 Customer8: Waited 0.020929313377148873\n",
      "13.412027833724267 Customer9: Here I am\n",
      "15.034089884021487 Customer8: Finished\n",
      "15.034089884021487 Customer9: Waited 1.6220620502972203\n",
      "16.596024056967906 Customer9: Finished\n",
      "17.230736427393516 Customer10: Here I am\n",
      "17.230736427393516 Customer10: Waited 0.0\n",
      "18.125392917763822 Customer11: Here I am\n",
      "18.51788108954709 Customer12: Here I am\n",
      "18.524906908507518 Customer10: Finished\n",
      "18.524906908507518 Customer11: Waited 0.39951399074369576\n",
      "18.683839403872266 Customer11: Finished\n",
      "18.683839403872266 Customer12: Waited 0.16595831432517727\n",
      "19.556321772457245 Customer12: Finished\n",
      "19.674809584468036 Customer13: Here I am\n",
      "19.674809584468036 Customer13: Waited 0.0\n",
      "20.47030878809198 Customer13: Finished\n",
      "20.720430161834408 Customer14: Here I am\n",
      "20.720430161834408 Customer14: Waited 0.0\n",
      "21.212696746470964 Customer14: Finished\n",
      "21.67250208949042 Customer15: Here I am\n",
      "21.67250208949042 Customer15: Waited 0.0\n",
      "23.557942028331066 Customer16: Here I am\n",
      "24.292431982937355 Customer17: Here I am\n",
      "25.031094309626642 Customer18: Here I am\n",
      "25.678597775010953 Customer15: Finished\n",
      "25.678597775010953 Customer16: Waited 2.120655746679887\n",
      "25.829391417441922 Customer16: Finished\n",
      "25.829391417441922 Customer17: Waited 1.536959434504567\n",
      "27.234755858407777 Customer17: Finished\n",
      "27.234755858407777 Customer18: Waited 2.2036615487811346\n",
      "28.76624412325531 Customer18: Finished\n",
      "33.255825014251684 Customer19: Here I am\n",
      "33.255825014251684 Customer19: Waited 0.0\n",
      "33.470257958033656 Customer19: Finished\n",
      "34.42275580620221 Customer20: Here I am\n",
      "34.42275580620221 Customer20: Waited 0.0\n",
      "35.651084236321566 Customer21: Here I am\n",
      "35.75837099429576 Customer20: Finished\n",
      "35.75837099429576 Customer21: Waited 0.10728675797419385\n",
      "38.73284840411979 Customer21: Finished\n",
      "39.34284077574661 Customer22: Here I am\n",
      "39.34284077574661 Customer22: Waited 0.0\n",
      "40.54758770434904 Customer22: Finished\n",
      "42.67905509106305 Customer23: Here I am\n",
      "42.67905509106305 Customer23: Waited 0.0\n",
      "43.25923128517053 Customer24: Here I am\n",
      "43.81996696092521 Customer23: Finished\n",
      "43.81996696092521 Customer24: Waited 0.5607356757546782\n",
      "44.16323148886872 Customer24: Finished\n",
      "44.768621966981456 Customer25: Here I am\n",
      "44.768621966981456 Customer25: Waited 0.0\n",
      "45.104866431614255 Customer25: Finished\n",
      "48.66002508977886 Customer26: Here I am\n",
      "48.66002508977886 Customer26: Waited 0.0\n",
      "49.63299667699455 Customer26: Finished\n",
      "49.68618177817828 Customer27: Here I am\n",
      "49.68618177817828 Customer27: Waited 0.0\n",
      "50.44863083019464 Customer28: Here I am\n",
      "51.02824673526392 Customer27: Finished\n",
      "51.02824673526392 Customer28: Waited 0.5796159050692822\n",
      "51.509455481164565 Customer29: Here I am\n",
      "52.90745924283978 Customer28: Finished\n",
      "52.90745924283978 Customer29: Waited 1.3980037616752128\n",
      "53.15119359315974 Customer29: Finished\n",
      "55.27481567432945 Customer30: Here I am\n",
      "55.27481567432945 Customer30: Waited 0.0\n",
      "57.18196912310405 Customer31: Here I am\n",
      "58.39058823789039 Customer32: Here I am\n",
      "58.692789658417354 Customer30: Finished\n",
      "58.692789658417354 Customer31: Waited 1.5108205353133073\n",
      "59.51343020864359 Customer31: Finished\n",
      "59.51343020864359 Customer32: Waited 1.1228419707531998\n",
      "59.90703890674559 Customer33: Here I am\n",
      "60.58081747967085 Customer32: Finished\n",
      "60.58081747967085 Customer33: Waited 0.6737785729252579\n",
      "62.00031268990424 Customer33: Finished\n",
      "62.80979622578322 Customer34: Here I am\n",
      "62.80979622578322 Customer34: Waited 0.0\n",
      "63.38949628362671 Customer35: Here I am\n",
      "63.842867581359044 Customer36: Here I am\n",
      "63.85561162177338 Customer34: Finished\n",
      "63.85561162177338 Customer35: Waited 0.4661153381466647\n",
      "64.71673792978847 Customer37: Here I am\n",
      "66.620105254698 Customer38: Here I am\n",
      "67.81278658539071 Customer39: Here I am\n",
      "68.602771151383 Customer35: Finished\n",
      "68.602771151383 Customer36: Waited 4.759903570023951\n",
      "70.55374661121952 Customer36: Finished\n",
      "70.55374661121952 Customer37: Waited 5.837008681431058\n",
      "70.66230057252335 Customer37: Finished\n",
      "70.66230057252335 Customer38: Waited 4.042195317825346\n",
      "71.63684939470268 Customer38: Finished\n",
      "71.63684939470268 Customer39: Waited 3.824062809311968\n",
      "71.68165879488366 Customer40: Here I am\n",
      "71.68965828366757 Customer39: Finished\n",
      "71.68965828366757 Customer40: Waited 0.007999488783909214\n",
      "73.1353628951672 Customer40: Finished\n",
      "75.04248904949579 Customer41: Here I am\n",
      "75.04248904949579 Customer41: Waited 0.0\n",
      "75.47847634500164 Customer42: Here I am\n",
      "78.62974866439012 Customer43: Here I am\n",
      "79.61922107093727 Customer41: Finished\n",
      "79.61922107093727 Customer42: Waited 4.140744725935633\n",
      "79.91463082524324 Customer44: Here I am\n",
      "80.18242663469863 Customer45: Here I am\n",
      "81.67211701790842 Customer46: Here I am\n",
      "82.42859793356706 Customer47: Here I am\n",
      "83.13828096973356 Customer42: Finished\n",
      "83.13828096973356 Customer43: Waited 4.5085323053434365\n",
      "83.81315348259226 Customer48: Here I am\n",
      "84.8698946986988 Customer49: Here I am\n",
      "85.8995526149761 Customer43: Finished\n",
      "85.8995526149761 Customer44: Waited 5.984921789732866\n",
      "86.23324992274303 Customer44: Finished\n",
      "86.23324992274303 Customer45: Waited 6.050823288044398\n",
      "86.50247260642946 Customer50: Here I am\n",
      "88.95668596326507 Customer45: Finished\n",
      "88.95668596326507 Customer46: Waited 7.284568945356654\n",
      "91.32739960557453 Customer46: Finished\n",
      "91.32739960557453 Customer47: Waited 8.898801672007465\n",
      "92.36443120937889 Customer47: Finished\n",
      "92.36443120937889 Customer48: Waited 8.551277726786637\n",
      "93.89463299109566 Customer48: Finished\n",
      "93.89463299109566 Customer49: Waited 9.024738292396862\n",
      "94.51484788268505 Customer49: Finished\n",
      "94.51484788268505 Customer50: Waited 8.012375276255582\n",
      "99.74170089408489 Customer50: Finished\n"
     ]
    }
   ],
   "source": [
    "# Start processes and run\n",
    "counter = Resource(env, 1)\n",
    "Process(env, source, NEW_CUSTOMERS, INTERVAL_CUSTOMERS, counter)\n",
    "run(env)"
   ]
  },
  {
   "cell_type": "code",
   "execution_count": null,
   "metadata": {
    "collapsed": true
   },
   "outputs": [],
   "source": []
  },
  {
   "cell_type": "code",
   "execution_count": null,
   "metadata": {
    "collapsed": true
   },
   "outputs": [],
   "source": []
  }
 ],
 "metadata": {
  "kernelspec": {
   "display_name": "Julia 0.4.6",
   "language": "julia",
   "name": "julia-0.4"
  },
  "language_info": {
   "file_extension": ".jl",
   "mimetype": "application/julia",
   "name": "julia",
   "version": "0.4.6"
  }
 },
 "nbformat": 4,
 "nbformat_minor": 0
}
