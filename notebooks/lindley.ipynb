{
 "cells": [
  {
   "cell_type": "markdown",
   "metadata": {},
   "source": [
    "## Lindley recurrence"
   ]
  },
  {
   "cell_type": "markdown",
   "metadata": {},
   "source": [
    "Add the unofficial RandomStreams package if needed"
   ]
  },
  {
   "cell_type": "code",
   "execution_count": 57,
   "metadata": {
    "collapsed": false
   },
   "outputs": [],
   "source": [
    "# Pkg.clone(\"https://github.com/prsteele/RandomStreams.jl\")"
   ]
  },
  {
   "cell_type": "code",
   "execution_count": 58,
   "metadata": {
    "collapsed": false
   },
   "outputs": [],
   "source": [
    "using Distributions\n",
    "using RandomStreams  # provides the MRG32K3a generator along with random streams"
   ]
  },
  {
   "cell_type": "code",
   "execution_count": 59,
   "metadata": {
    "collapsed": false
   },
   "outputs": [
    {
     "data": {
      "text/plain": [
       "Full state of MRG32k3a generator:\n",
       "Cg = [12345,12345,12345,12345,12345,12345]\n",
       "Bg = [12345,12345,12345,12345,12345,12345]\n",
       "Ig = [12345,12345,12345,12345,12345,12345]"
      ]
     },
     "execution_count": 59,
     "metadata": {},
     "output_type": "execute_result"
    }
   ],
   "source": [
    "const SEED = 12345\n",
    "\n",
    "seeds = Array[[SEED, SEED, SEED, SEED, SEED, SEED]]\n",
    "gen = MRG32k3aGen(seeds[1])\n",
    "arrival_gen = next_stream(gen)"
   ]
  },
  {
   "cell_type": "markdown",
   "metadata": {},
   "source": [
    "- Cg is the current state of the generator\n",
    "- Bg is the first state of the substream\n",
    "- Ig is the first state of the stream"
   ]
  },
  {
   "cell_type": "code",
   "execution_count": 60,
   "metadata": {
    "collapsed": false
   },
   "outputs": [
    {
     "data": {
      "text/plain": [
       "Full state of MRG32k3a generator:\n",
       "Cg = [3692455944,1366884236,2968912127,335948734,4161675175,475798818]\n",
       "Bg = [3692455944,1366884236,2968912127,335948734,4161675175,475798818]\n",
       "Ig = [3692455944,1366884236,2968912127,335948734,4161675175,475798818]"
      ]
     },
     "execution_count": 60,
     "metadata": {},
     "output_type": "execute_result"
    }
   ],
   "source": [
    "service_gen = next_stream(gen)"
   ]
  },
  {
   "cell_type": "code",
   "execution_count": 61,
   "metadata": {
    "collapsed": false
   },
   "outputs": [
    {
     "data": {
      "text/plain": [
       "rand_dist (generic function with 1 method)"
      ]
     },
     "execution_count": 61,
     "metadata": {},
     "output_type": "execute_result"
    }
   ],
   "source": [
    "rand_dist(rng::MRG32k3a, Dist::Distribution) = quantile(Dist, rand(rng))"
   ]
  },
  {
   "cell_type": "markdown",
   "metadata": {},
   "source": [
    "Lindley recurrence:\n",
    "$$\n",
    " W_1 = 0,\\quad W_{i+1} = \\max(0,\\; W_i + S_i - A_{i+1}).\n",
    "$$\n"
   ]
  },
  {
   "cell_type": "code",
   "execution_count": 62,
   "metadata": {
    "collapsed": false
   },
   "outputs": [
    {
     "data": {
      "text/plain": [
       "mean_wait (generic function with 1 method)"
      ]
     },
     "execution_count": 62,
     "metadata": {},
     "output_type": "execute_result"
    }
   ],
   "source": [
    "function mean_wait()\n",
    "    N = 100 # Number of clients\n",
    "    Waits = Array(Float64, N)\n",
    "    Waits[1] = 0.0 # The first client does not wait.\n",
    "    lambda = 1.0   # arrival rate\n",
    "    mu = 2.0       # service rate\n",
    "    arrival = Exponential(1.0/lambda)\n",
    "    service = Exponential(1.0/mu)\n",
    "\n",
    "    for i in 2:N\n",
    "        Waits[i] = max(0, Waits[i-1]-rand_dist(arrival_gen, arrival)+rand_dist(service_gen, service))\n",
    "    end\n",
    "    \n",
    "    return Waits\n",
    "end"
   ]
  },
  {
   "cell_type": "code",
   "execution_count": 63,
   "metadata": {
    "collapsed": false
   },
   "outputs": [],
   "source": [
    "Waits = mean_wait();"
   ]
  },
  {
   "cell_type": "code",
   "execution_count": 64,
   "metadata": {
    "collapsed": false
   },
   "outputs": [],
   "source": [
    "next_substream!(arrival_gen)"
   ]
  },
  {
   "cell_type": "code",
   "execution_count": 65,
   "metadata": {
    "collapsed": false
   },
   "outputs": [
    {
     "data": {
      "text/plain": [
       "Full state of MRG32k3a generator:\n",
       "Cg = [870504860,2641697727,884013853,339352413,2374306706,3651603887]\n",
       "Bg = [870504860,2641697727,884013853,339352413,2374306706,3651603887]\n",
       "Ig = [12345,12345,12345,12345,12345,12345]"
      ]
     },
     "execution_count": 65,
     "metadata": {},
     "output_type": "execute_result"
    }
   ],
   "source": [
    "arrival_gen\n"
   ]
  },
  {
   "cell_type": "code",
   "execution_count": 66,
   "metadata": {
    "collapsed": true
   },
   "outputs": [],
   "source": [
    "next_substream!(service_gen)"
   ]
  },
  {
   "cell_type": "code",
   "execution_count": 67,
   "metadata": {
    "collapsed": false
   },
   "outputs": [
    {
     "data": {
      "text/plain": [
       "Full state of MRG32k3a generator:\n",
       "Cg = [3119395571,2178405402,1065030501,3980307777,2117495919,1836828492]\n",
       "Bg = [3119395571,2178405402,1065030501,3980307777,2117495919,1836828492]\n",
       "Ig = [3692455944,1366884236,2968912127,335948734,4161675175,475798818]"
      ]
     },
     "execution_count": 67,
     "metadata": {},
     "output_type": "execute_result"
    }
   ],
   "source": [
    "service_gen"
   ]
  },
  {
   "cell_type": "code",
   "execution_count": 68,
   "metadata": {
    "collapsed": false
   },
   "outputs": [
    {
     "data": {
      "text/plain": [
       "0.27500787817416655"
      ]
     },
     "execution_count": 68,
     "metadata": {},
     "output_type": "execute_result"
    }
   ],
   "source": [
    "Waits = mean_wait()\n",
    "mean(Waits)"
   ]
  },
  {
   "cell_type": "code",
   "execution_count": 69,
   "metadata": {
    "collapsed": false
   },
   "outputs": [
    {
     "data": {
      "text/plain": [
       "Full state of MRG32k3a generator:\n",
       "Cg = [69203324,1892021885,2710470724,626581466,962931810,3534889925]\n",
       "Bg = [870504860,2641697727,884013853,339352413,2374306706,3651603887]\n",
       "Ig = [12345,12345,12345,12345,12345,12345]"
      ]
     },
     "execution_count": 69,
     "metadata": {},
     "output_type": "execute_result"
    }
   ],
   "source": [
    "arrival_gen"
   ]
  },
  {
   "cell_type": "code",
   "execution_count": null,
   "metadata": {
    "collapsed": true
   },
   "outputs": [],
   "source": []
  }
 ],
 "metadata": {
  "kernelspec": {
   "display_name": "Julia 0.4.6",
   "language": "julia",
   "name": "julia-0.4"
  },
  "language_info": {
   "file_extension": ".jl",
   "mimetype": "application/julia",
   "name": "julia",
   "version": "0.4.6"
  }
 },
 "nbformat": 4,
 "nbformat_minor": 0
}
